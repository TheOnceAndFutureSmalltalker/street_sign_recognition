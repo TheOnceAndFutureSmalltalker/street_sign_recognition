{
 "cells": [
  {
   "cell_type": "markdown",
   "metadata": {},
   "source": [
    "# Self-Driving Car Engineer Nanodegree\n",
    "\n",
    "## Deep Learning\n",
    "\n",
    "## Project: Build a Traffic Sign Recognition Classifier\n",
    "\n",
    "In this notebook, a template is provided for you to implement your functionality in stages, which is required to successfully complete this project. If additional code is required that cannot be included in the notebook, be sure that the Python code is successfully imported and included in your submission if necessary. \n",
    "\n",
    "> **Note**: Once you have completed all of the code implementations, you need to finalize your work by exporting the iPython Notebook as an HTML document. Before exporting the notebook to html, all of the code cells need to have been run so that reviewers can see the final implementation and output. You can then export the notebook by using the menu above and navigating to  \\n\",\n",
    "    \"**File -> Download as -> HTML (.html)**. Include the finished document along with this notebook as your submission. \n",
    "\n",
    "In addition to implementing code, there is a writeup to complete. The writeup should be completed in a separate file, which can be either a markdown file or a pdf document. There is a [write up template](https://github.com/udacity/CarND-Traffic-Sign-Classifier-Project/blob/master/writeup_template.md) that can be used to guide the writing process. Completing the code template and writeup template will cover all of the [rubric points](https://review.udacity.com/#!/rubrics/481/view) for this project.\n",
    "\n",
    "The [rubric](https://review.udacity.com/#!/rubrics/481/view) contains \"Stand Out Suggestions\" for enhancing the project beyond the minimum requirements. The stand out suggestions are optional. If you decide to pursue the \"stand out suggestions\", you can include the code in this Ipython notebook and also discuss the results in the writeup file.\n",
    "\n",
    "\n",
    ">**Note:** Code and Markdown cells can be executed using the **Shift + Enter** keyboard shortcut. In addition, Markdown cells can be edited by typically double-clicking the cell to enter edit mode."
   ]
  },
  {
   "cell_type": "markdown",
   "metadata": {},
   "source": [
    "---\n",
    "## Step 0: Load The Data\n",
    "\n",
    "The dataset is German Traffic Signs.  The dataset provided in a zip was already pickled and all images are at 32X32X3, eventhough the original images are larger.  The images have already been cropped and the sign is centered with adequate padding between the sign and the edge of image for edge detection methods.\n",
    "\n",
    "#### Note\n",
    "The video in the lab mentions that the data set does not have a validation set and to use a split from train.  However, when I unzipped the file, it did have a valiation set.  We caI set it up so that I can switch back and forth betwen the validation set provided and one split from training set to see if there are any changes in results."
   ]
  },
  {
   "cell_type": "code",
   "execution_count": 17,
   "metadata": {},
   "outputs": [
    {
     "name": "stdout",
     "output_type": "stream",
     "text": [
      "Data loaded.\n"
     ]
    }
   ],
   "source": [
    "# Load pickled data\n",
    "import pickle\n",
    "import csv\n",
    "from sklearn.model_selection import train_test_split\n",
    "\n",
    "training_file = 'train.p'\n",
    "validation_file= 'valid.p'\n",
    "testing_file = 'test.p'\n",
    "\n",
    "with open(training_file, mode='rb') as f:\n",
    "    train = pickle.load(f)\n",
    "with open(validation_file, mode='rb') as f:\n",
    "    valid = pickle.load(f)\n",
    "with open(testing_file, mode='rb') as f:\n",
    "    test = pickle.load(f)    \n",
    "    \n",
    "X_train, y_train = train['features'], train['labels']\n",
    "X_valid, y_valid = valid['features'], valid['labels']\n",
    "X_test, y_test = test['features'], test['labels']\n",
    "\n",
    "# use part of train as validation, comment out to use validation set provided from zip\n",
    "X_train, X_valid, y_train, y_valid = train_test_split(X_train, y_train, test_size=0.2, random_state=0)\n",
    "\n",
    "assert(len(X_train) == len(y_train))\n",
    "assert(len(X_valid) == len(y_valid))\n",
    "assert(len(X_test) == len(y_test))\n",
    "\n",
    "# read in sign names \n",
    "with open('signnames.csv') as csvfile:\n",
    "    sign_names = csv.reader(csvfile, delimiter=',')\n",
    "    sign_names = dict(sign_names)\n",
    "del sign_names['ClassId']\n",
    "\n",
    "print(\"Data loaded.\")\n"
   ]
  },
  {
   "cell_type": "markdown",
   "metadata": {},
   "source": [
    "---\n",
    "\n",
    "## Step 1: Dataset Summary & Exploration\n",
    "\n",
    "The pickled data is a dictionary with 4 key/value pairs:\n",
    "\n",
    "- `'features'` is a 4D array containing raw pixel data of the traffic sign images, (num examples, width, height, channels).\n",
    "- `'labels'` is a 1D array containing the label/class id of the traffic sign. The file `signnames.csv` contains id -> name mappings for each id.\n",
    "- `'sizes'` is a list containing tuples, (width, height) representing the original width and height the image.\n",
    "- `'coords'` is a list containing tuples, (x1, y1, x2, y2) representing coordinates of a bounding box around the sign in the image. **THESE COORDINATES ASSUME THE ORIGINAL IMAGE. THE PICKLED DATA CONTAINS RESIZED VERSIONS (32 by 32) OF THESE IMAGES**\n",
    "\n",
    "Complete the basic data summary below. Use python, numpy and/or pandas methods to calculate the data summary rather than hard coding the results. For example, the [pandas shape method](http://pandas.pydata.org/pandas-docs/stable/generated/pandas.DataFrame.shape.html) might be useful for calculating some of the summary results. "
   ]
  },
  {
   "cell_type": "markdown",
   "metadata": {},
   "source": [
    "### Provide a Basic Summary of the Data Set Using Python, Numpy and/or Pandas\n",
    "\n",
    "The provided dataset has 34799 training images, 4410 validation images, and 12630 testing images.  However, if validatoin set is split from training then there are 27839 training images, 6960 validation images.\n",
    "\n",
    "There are a total of 43 different signs/features.  These are described in signnames.csv which is also read in."
   ]
  },
  {
   "cell_type": "code",
   "execution_count": 2,
   "metadata": {},
   "outputs": [
    {
     "name": "stdout",
     "output_type": "stream",
     "text": [
      "Number of training examples = 27839\n",
      "Number of validation examples = 6960\n",
      "Number of testing examples = 12630\n",
      "Image data shape = (32, 32, 3)\n",
      "Number of classes = 43\n"
     ]
    }
   ],
   "source": [
    "# explore data\n",
    "\n",
    "# TODO: Number of training examples\n",
    "n_train = len(X_train) \n",
    "\n",
    "# TODO: Number of validation examples\n",
    "n_valid = len(X_valid)\n",
    "\n",
    "# TODO: Number of testing examples.\n",
    "n_test = len(X_test)\n",
    "\n",
    "# TODO: What's the shape of an traffic sign image?\n",
    "image_shape = X_train[0].shape\n",
    "\n",
    "# TODO: How many unique classes/labels there are in the dataset.\n",
    "n_classes = len(sign_names.keys())\n",
    "\n",
    "print(\"Number of training examples =\", n_train)\n",
    "print(\"Number of validation examples =\", n_valid)\n",
    "print(\"Number of testing examples =\", n_test)\n",
    "print(\"Image data shape =\", image_shape)\n",
    "print(\"Number of classes =\", n_classes)"
   ]
  },
  {
   "cell_type": "markdown",
   "metadata": {},
   "source": [
    "### Include an exploratory visualization of the dataset"
   ]
  },
  {
   "cell_type": "markdown",
   "metadata": {},
   "source": [
    "The bar chart below shows how many of each sign there are in the training set.  You can see that some signs are ten times more prevalent than others.  \n",
    "\n",
    "In addition 5 images are chosen at random from training set and displayed to get a feel for what they look like.  The name of the signs are also provided.  While the signs are centered, fill most of the image, and viewed from straight on, they appear dark and grainy."
   ]
  },
  {
   "cell_type": "code",
   "execution_count": 6,
   "metadata": {},
   "outputs": [
    {
     "data": {
      "image/png": "[encoded data removed]",
      "text/plain": [
       "<matplotlib.figure.Figure at 0x7ff4f410fe10>"
      ]
     },
     "metadata": {},
     "output_type": "display_data"
    },
    {
     "name": "stdout",
     "output_type": "stream",
     "text": [
      "13 - Yield\n",
      "18 - General caution\n",
      "33 - Turn right ahead\n",
      "41 - End of no passing\n",
      "4 - Speed limit (70km/h)\n"
     ]
    },
    {
     "data": {
      "image/png": "[encoded data removed]",
      "text/plain": [
       "<matplotlib.figure.Figure at 0x7ff4e36f90b8>"
      ]
     },
     "metadata": {},
     "output_type": "display_data"
    },
    {
     "data": {
      "image/png": "[encoded data removed]",
      "text/plain": [
       "<matplotlib.figure.Figure at 0x7ff4e37ffa20>"
      ]
     },
     "metadata": {},
     "output_type": "display_data"
    },
    {
     "data": {
      "image/png": "[encoded data removed]",
      "text/plain": [
       "<matplotlib.figure.Figure at 0x7ff4e3912ba8>"
      ]
     },
     "metadata": {},
     "output_type": "display_data"
    },
    {
     "data": {
      "image/png": "[encoded data removed]",
      "text/plain": [
       "<matplotlib.figure.Figure at 0x7ff4e3ac3b70>"
      ]
     },
     "metadata": {},
     "output_type": "display_data"
    },
    {
     "data": {
      "image/png": "[encoded data removed]",
      "text/plain": [
       "<matplotlib.figure.Figure at 0x7ff4e3b0b978>"
      ]
     },
     "metadata": {},
     "output_type": "display_data"
    }
   ],
   "source": [
    "import matplotlib.pyplot as plt\n",
    "import random\n",
    "import numpy as np\n",
    "\n",
    "%matplotlib inline\n",
    "\n",
    "# get counts of each sign\n",
    "counts = np.arange(43)\n",
    "for y in y_train:\n",
    "    counts[y] += 1\n",
    "\n",
    "# show bar chart illustrating how many of each sign in training set\n",
    "plt.rcdefaults()\n",
    "fig, ax = plt.subplots()\n",
    "fig.set_size_inches(8, 8)\n",
    "y_pos = np.arange(len(counts))\n",
    "ax.barh(y_pos, counts, #xerr=error, \n",
    "        align='center',\n",
    "        color='green', ecolor='black')\n",
    "ax.set_yticks(y_pos)\n",
    "#ax.set_yticklabels(people)\n",
    "ax.invert_yaxis()  # labels read top-to-bottom\n",
    "ax.set_xlabel('Number of instances')\n",
    "ax.set_title('How many instances of each sign?')\n",
    "plt.show()\n",
    "\n",
    "\n",
    "# show 5 random signs from training set\n",
    "%matplotlib inline\n",
    "for _ in range(5):\n",
    "    index = random.randint(0, len(X_train))\n",
    "    image = X_train[index].squeeze()\n",
    "    plt.figure(figsize=(1,1))\n",
    "    plt.imshow(image)\n",
    "    print(\"{0} - {1}\".format(y_train[index], sign_names[str(y_train[index])]))"
   ]
  },
  {
   "cell_type": "markdown",
   "metadata": {},
   "source": [
    "----\n",
    "\n",
    "## Step 2: Design and Test a Model Architecture\n",
    "\n",
    "Design and implement a deep learning model that learns to recognize traffic signs. Train and test your model on the [German Traffic Sign Dataset](http://benchmark.ini.rub.de/?section=gtsrb&subsection=dataset).\n",
    "\n",
    "The LeNet-5 implementation shown in the [classroom](https://classroom.udacity.com/nanodegrees/nd013/parts/fbf77062-5703-404e-b60c-95b78b2f3f9e/modules/6df7ae49-c61c-4bb2-a23e-6527e69209ec/lessons/601ae704-1035-4287-8b11-e2c2716217ad/concepts/d4aca031-508f-4e0b-b493-e7b706120f81) at the end of the CNN lesson is a solid starting point. You'll have to change the number of classes and possibly the preprocessing, but aside from that it's plug and play! \n",
    "\n",
    "With the LeNet-5 solution from the lecture, you should expect a validation set accuracy of about 0.89. To meet specifications, the validation set accuracy will need to be at least 0.93. It is possible to get an even higher accuracy, but 0.93 is the minimum for a successful project submission. \n",
    "\n",
    "There are various aspects to consider when thinking about this problem:\n",
    "\n",
    "- Neural network architecture (is the network over or underfitting?)\n",
    "- Play around preprocessing techniques (normalization, rgb to grayscale, etc)\n",
    "- Number of examples per label (some have more than others).\n",
    "- Generate fake data.\n",
    "\n",
    "Here is an example of a [published baseline model on this problem](http://yann.lecun.com/exdb/publis/pdf/sermanet-ijcnn-11.pdf). It's not required to be familiar with the approach used in the paper but, it's good practice to try to read papers like these."
   ]
  },
  {
   "cell_type": "markdown",
   "metadata": {},
   "source": [
    "### Pre-process the Data Set (normalization, grayscale, etc.)"
   ]
  },
  {
   "cell_type": "markdown",
   "metadata": {},
   "source": [
    "Minimally, the image data should be normalized so that the data has mean zero and equal variance. For image data, `(pixel - 128)/ 128` is a quick way to approximately normalize the data and can be used in this project. \n",
    "\n",
    "The data is preprocessed first by converting the type to in32 from ubyte.  The data is then normalized using (pixel - 128) / 128 so that each value is in (-1, 1).  The data conversion was necessary because the ubyte will not go negative.\n",
    "\n",
    "The training set was then randomly shuffled.  Thi sis not entirely necessary here since it will be shuffled again for each epoch.\n",
    "\n",
    "Finally a function is added for optionally manipulating the images with rotate and flip.\n",
    "\n",
    "A sample of before and after data is printed out to verify the operation."
   ]
  },
  {
   "cell_type": "code",
   "execution_count": 3,
   "metadata": {},
   "outputs": [
    {
     "name": "stdout",
     "output_type": "stream",
     "text": [
      "[[255 255 255]\n",
      " [255 255 255]\n",
      " [255 255 255]\n",
      " [254 255 255]\n",
      " [249 254 255]]\n",
      "[[ 0.9921875  0.9921875  0.9921875]\n",
      " [ 0.9921875  0.9921875  0.9921875]\n",
      " [ 0.9921875  0.9921875  0.9921875]\n",
      " [ 0.984375   0.9921875  0.9921875]\n",
      " [ 0.9453125  0.984375   0.9921875]]\n"
     ]
    }
   ],
   "source": [
    "# NOTE: the data read must be performed each time before running this code\n",
    "# because this code redefines the input data as normalized data\n",
    "\n",
    "# convert data from ubyte to int32\n",
    "import numpy as np\n",
    "X_train = X_train.astype(np.int32)\n",
    "X_valid = X_valid.astype(np.int32)\n",
    "X_test = X_test.astype(np.int32)\n",
    "\n",
    "# normalize data to (-1, 1)\n",
    "print(X_train[0,10,0:5]) # show some unnormalized data\n",
    "X_train = (X_train - 128) / 128\n",
    "X_valid = (X_valid - 128) / 128\n",
    "X_test = (X_test - 128) / 128\n",
    "print(X_train[0,10,0:5]) # show some normalized data to make sure it worked\n",
    "\n",
    "# give initial shuffle, we will be shuffling each batch as well\n",
    "from sklearn.utils import shuffle\n",
    "X_train, y_train = shuffle(X_train, y_train)\n",
    "\n",
    "# this can be used to flip and rotate a percentage of a batch's images\n",
    "def augment_images(images):\n",
    "    '''\n",
    "    expects images to be of shape [b, h, w, d]\n",
    "    '''\n",
    "    for i in range(images.shape[0]):\n",
    "        if(i % 5 == 0):\n",
    "            new_image = np.rot90(images[i], k=1)\n",
    "        elif(i % 5 == 1):\n",
    "            new_image = np.rot90(images[i], k=2)\n",
    "        elif(i % 5 == 2):\n",
    "            new_image = np.rot90(images[i], k=3)\n",
    "        elif(i % 5 == 3):\n",
    "            new_image = np.transpose(images[i], (1, 0, 2))\n",
    "        else:\n",
    "            new_image = images[i]\n",
    "        images[i] = new_image"
   ]
  },
  {
   "cell_type": "markdown",
   "metadata": {},
   "source": [
    "### Model Architecture\n",
    "\n",
    "#### Hyper parameters\n",
    "The scalars for epochs and batch size are defined here.  \n",
    "\n",
    "Learning rate is defined as a variable tensor so that it can be updated during training.  We have the option to keep it constant or decay it by a devisor every epoch.\n",
    "\n",
    "The dropout keep probability is defined as a placeholder so its value can be passed in from the feed_dict.  This is necessary so that it can be one value for training and 1.0 for evaluation and runtime predictions."
   ]
  },
  {
   "cell_type": "code",
   "execution_count": 4,
   "metadata": {},
   "outputs": [
    {
     "name": "stdout",
     "output_type": "stream",
     "text": [
      "Main hyper parameters defined.\n"
     ]
    }
   ],
   "source": [
    "# init main hyper parameters\n",
    "import tensorflow as tf\n",
    "# init epochs and batch size\n",
    "EPOCHS = 20\n",
    "BATCH_SIZE = 64\n",
    "# define learning rate\n",
    "LEARNING_RATE = 0.0015 \n",
    "learning_rate = tf.Variable(LEARNING_RATE, trainable=False)\n",
    "# we can keep learning rate constant or we can decay it every epoch by the following\n",
    "# learning_rate = learning_rate / LEARNING_RATE_DIVISOR\n",
    "LEARNING_RATE_DIVISOR = 1.05\n",
    "#setup dropout\n",
    "KEEP_PROB = 0.5\n",
    "keep_prob = tf.placeholder(tf.float32)\n",
    "print(\"Main hyper parameters defined.\")"
   ]
  },
  {
   "cell_type": "markdown",
   "metadata": {},
   "source": [
    "#### LeNet Architecture\n",
    "The architecture is a 5 layer LeNet.  The first two are convolution layers.  The first layer convolves inputs to dimension 28 X 28 X 6 and runs outputs through a ReLU activation and then a pooling operation further reduces dimension to 14 X 14 X 6. The second layer follows the same process resulting in a dimension of 5 X 5 X 16.  This is then flattened to a single dimension of 400 input for the next 2 layers which are fully connected and include a ReLU activation as well, resulting in a fourth layer output dimension of 84.  The optional dropout is then applied before the fifth layer reulting in output dimension 43.  These are the logits - the predictions of the CNN."
   ]
  },
  {
   "cell_type": "code",
   "execution_count": 5,
   "metadata": {},
   "outputs": [
    {
     "name": "stdout",
     "output_type": "stream",
     "text": [
      "LeNet function defined\n"
     ]
    }
   ],
   "source": [
    "from tensorflow.contrib.layers import flatten\n",
    "\n",
    "# defines a 5 layer LeNet architecture to be run on data set X\n",
    "def LeNet(X):\n",
    "    '''\n",
    "    run 5 layer LeNet on data set X of size (batch, 32, 32, 3)\n",
    "    return logits vector of size batch\n",
    "    '''\n",
    "    mu = 0.0     # mean \n",
    "    sigma = 0.1  # std dev\n",
    "    # shape is filter_height X filter_width X in_channels X out_channels\n",
    "    W = tf.truncated_normal(shape=(5, 5, 3, 6), mean = mu, stddev = sigma)\n",
    "    \n",
    "    # layer 1 convolution - output 28 X 28 X 6\n",
    "    layer1_W = tf.Variable(W)\n",
    "    layer1_b = tf.Variable(tf.zeros(6))\n",
    "    layer1 = tf.nn.conv2d(X, layer1_W, strides=[1, 1, 1, 1], padding='VALID') + layer1_b\n",
    "    \n",
    "    # layer 1 activation\n",
    "    layer1 = tf.nn.relu(layer1)\n",
    "    \n",
    "    # layer 1 pooling - output 14 X 14 X 6 - again using NHWC format\n",
    "    layer1 = tf.nn.max_pool(layer1, [1, 2, 2, 1], [1, 2, 2, 1], padding='VALID')\n",
    "    \n",
    "        # Layer 2 convolution - output 10 X 10 X 16\n",
    "    W = tf.truncated_normal(shape=(5, 5, 6, 16), mean=mu, stddev = sigma)\n",
    "    layer2_W = tf.Variable(W)\n",
    "    layer2_b = tf.Variable(tf.zeros(16))\n",
    "    layer2 = tf.nn.conv2d(layer1, layer2_W, strides=[1, 1, 1, 1], padding='VALID') + layer2_b\n",
    "    \n",
    "    # layer 2 activation\n",
    "    layer2 = tf.nn.relu(layer2)\n",
    "    \n",
    "    # layer 2 pooling - output 5 X 5 X 16\n",
    "    layer2 = tf.nn.max_pool(layer2, [1, 2, 2, 1], [1, 2, 2, 1], padding='VALID')\n",
    "      \n",
    "    # fully connected layer regression 400 in, 120 out\n",
    "    layer3_W = tf.Variable(tf.truncated_normal(shape=(400, 120), mean = mu, stddev = sigma))\n",
    "    layer3_b = tf.Variable(tf.zeros(120))\n",
    "    flattened = flatten(layer2)\n",
    "    layer3 = tf.matmul(flattened, layer3_W) + layer3_b\n",
    "    \n",
    "    # fully connected layer activation\n",
    "    layer3 = tf.nn.relu(layer3)\n",
    "    \n",
    "    # Layer 4 fully connected 120 in, 84 out\n",
    "    layer4_W = tf.Variable(tf.truncated_normal(shape=(120, 84), mean = mu, stddev = sigma))\n",
    "    layer4_b = tf.Variable(tf.zeros(84))\n",
    "    layer4 = tf.matmul(layer3, layer4_W) + layer4_b\n",
    "    \n",
    "    # layer 4 activation\n",
    "    layer4 = tf.nn.relu(layer4)\n",
    "    \n",
    "    # apply dropout before final readout layer\n",
    "    layer4 = tf.nn.dropout(layer4, keep_prob)\n",
    "    \n",
    "    # Layer 5 fully connected, 84 in, 43 out\n",
    "    layer5_W = tf.Variable(tf.truncated_normal(shape=(84, 43), mean = mu, stddev = sigma))\n",
    "    layer5_b = tf.Variable(tf.zeros(43))\n",
    "    layer5 = tf.matmul(layer4, layer5_W) + layer5_b\n",
    "    \n",
    "    return layer5 # as the logits\n",
    "    \n",
    "print(\"LeNet function defined\")"
   ]
  },
  {
   "cell_type": "code",
   "execution_count": 6,
   "metadata": {},
   "outputs": [
    {
     "name": "stdout",
     "output_type": "stream",
     "text": [
      "Input batches defined.\n"
     ]
    }
   ],
   "source": [
    "# define X and y input batches of unknown size\n",
    "batch_X = tf.placeholder(tf.float32, (None, 32, 32, 3))\n",
    "batch_y = tf.placeholder(tf.uint8, (None))\n",
    "one_hot_y = tf.one_hot(batch_y, 43)\n",
    "print(\"Input batches defined.\")"
   ]
  },
  {
   "cell_type": "markdown",
   "metadata": {},
   "source": [
    "#### Pipeline Definition \n",
    "1. use LeNet to calculate the logits, \n",
    "2. calculate cross entropy with softmax and one hot encoding\n",
    "3. calculate the loss\n",
    "4. back propagate to update parameters using Adam optimizer"
   ]
  },
  {
   "cell_type": "code",
   "execution_count": 7,
   "metadata": {},
   "outputs": [
    {
     "name": "stdout",
     "output_type": "stream",
     "text": [
      "Pipeline created.\n"
     ]
    }
   ],
   "source": [
    "# create pipeline\n",
    "logits = LeNet(batch_X)\n",
    "cross_entropy = tf.nn.softmax_cross_entropy_with_logits(logits=logits, labels=one_hot_y)\n",
    "loss_operation = tf.reduce_mean(cross_entropy)\n",
    "optimizer = tf.train.AdamOptimizer(learning_rate = learning_rate)\n",
    "training_operation = optimizer.minimize(loss_operation)\n",
    "print(\"Pipeline created.\")"
   ]
  },
  {
   "cell_type": "markdown",
   "metadata": {},
   "source": [
    "### Train, Validate and Test the Model"
   ]
  },
  {
   "cell_type": "markdown",
   "metadata": {},
   "source": [
    "The model is trained by dividing the training set into batches.  Each image in a atch is run through the model, then loss is calculated for the entire batch, and then run through back propagation.  The optimizer is the Adam optimizer as this generally gets better results than SGD. The batch size is configurable.  \n",
    "\n",
    "Each run through the entire training data set is an epoch and the number of epochs is configurable.  The model is run on the validation set for a measure of accuracy at the end of each epoch.  \n",
    "\n",
    "Dropout can be included or excluded and the keep probability is configurable.\n",
    "\n",
    "The learning rate is also configurable and may be static across all epochs or it may decay with each epoch by dividing the previous learning rate by a divisor which is also configurable.  I tried using some of the learning rate decay functions provided by TensorFlow but found them difficult.\n",
    "\n",
    "The training code includes early exit tests for two conditions 1) a very low accuracy rate that is not improving, 2) an accuracy rate that is very high > 0.99.\n",
    "\n",
    "The model is saved at the end of a successful run.  Much experimentation was done without saving the model however.\n",
    "\n",
    "The last saved model ended up with a validation accuracy 0.989.  This was achieved with a learning rate starting at 0.0015 and decaying by 5% with each epoch.  I ran 20 epochs which was usually more than enough to get accuracy above 0.98.  A dropout rate of 0.5 was used to prevent overfitting to the training data.\n",
    "\n",
    "The final model was run on the test data set just once for an accuracy of 0.941."
   ]
  },
  {
   "cell_type": "code",
   "execution_count": 8,
   "metadata": {},
   "outputs": [
    {
     "name": "stdout",
     "output_type": "stream",
     "text": [
      "Model evaluation set up.\n"
     ]
    }
   ],
   "source": [
    "# model evaluation\n",
    "correct_prediction = tf.equal(tf.argmax(logits, 1), tf.argmax(one_hot_y, 1))\n",
    "accuracy_operation = tf.reduce_mean(tf.cast(correct_prediction, tf.float32))\n",
    "\n",
    "def evaluate(X_data, y_data):\n",
    "    num_examples = len(X_data)\n",
    "    total_accuracy = 0\n",
    "    sess = tf.get_default_session()\n",
    "    for offset in range(0, num_examples, BATCH_SIZE):\n",
    "        X, y = X_data[offset:offset+BATCH_SIZE], y_data[offset:offset+BATCH_SIZE]\n",
    "        accuracy = sess.run(accuracy_operation, feed_dict={ batch_X: X, batch_y: y, keep_prob: 1.0})\n",
    "        total_accuracy += accuracy * len(X)\n",
    "    return total_accuracy / num_examples\n",
    "\n",
    "print(\"Model evaluation set up.\")"
   ]
  },
  {
   "cell_type": "code",
   "execution_count": 9,
   "metadata": {},
   "outputs": [
    {
     "name": "stdout",
     "output_type": "stream",
     "text": [
      "Training...\n",
      "\n",
      "EPOCH 1 ...\n",
      "Validation Accuracy = 0.849\n",
      "Learning rate: 0.001500000013038516\n",
      "\n",
      "EPOCH 2 ...\n",
      "Validation Accuracy = 0.909\n",
      "Learning rate: 0.001428571529686451\n",
      "\n",
      "EPOCH 3 ...\n",
      "Validation Accuracy = 0.963\n",
      "Learning rate: 0.0013605443527922034\n",
      "\n",
      "EPOCH 4 ...\n",
      "Validation Accuracy = 0.965\n",
      "Learning rate: 0.0012957565486431122\n",
      "\n",
      "EPOCH 5 ...\n",
      "Validation Accuracy = 0.975\n",
      "Learning rate: 0.0012340538669377565\n",
      "\n",
      "EPOCH 6 ...\n",
      "Validation Accuracy = 0.976\n",
      "Learning rate: 0.0011752895079553127\n",
      "\n",
      "EPOCH 7 ...\n",
      "Validation Accuracy = 0.967\n",
      "Learning rate: 0.001119323424063623\n",
      "\n",
      "EPOCH 8 ...\n",
      "Validation Accuracy = 0.982\n",
      "Learning rate: 0.0010660223197191954\n",
      "\n",
      "EPOCH 9 ...\n",
      "Validation Accuracy = 0.982\n",
      "Learning rate: 0.0010152594186365604\n",
      "\n",
      "EPOCH 10 ...\n",
      "Validation Accuracy = 0.984\n",
      "Learning rate: 0.00096691376529634\n",
      "\n",
      "EPOCH 11 ...\n",
      "Validation Accuracy = 0.986\n",
      "Learning rate: 0.0009208702831529081\n",
      "\n",
      "EPOCH 12 ...\n",
      "Validation Accuracy = 0.986\n",
      "Learning rate: 0.0008770193671807647\n",
      "\n",
      "EPOCH 13 ...\n",
      "Validation Accuracy = 0.987\n",
      "Learning rate: 0.000835256592836231\n",
      "\n",
      "EPOCH 14 ...\n",
      "Validation Accuracy = 0.987\n",
      "Learning rate: 0.0007954824832268059\n",
      "\n",
      "EPOCH 15 ...\n",
      "Validation Accuracy = 0.984\n",
      "Learning rate: 0.0007576023926958442\n",
      "\n",
      "EPOCH 16 ...\n",
      "Validation Accuracy = 0.986\n",
      "Learning rate: 0.0007215260993689299\n",
      "\n",
      "EPOCH 17 ...\n",
      "Validation Accuracy = 0.982\n",
      "Learning rate: 0.0006871677469462156\n",
      "\n",
      "EPOCH 18 ...\n",
      "Validation Accuracy = 0.986\n",
      "Learning rate: 0.0006544454954564571\n",
      "\n",
      "EPOCH 19 ...\n",
      "Validation Accuracy = 0.986\n",
      "Learning rate: 0.0006232814630493522\n",
      "\n",
      "EPOCH 20 ...\n",
      "Validation Accuracy = 0.989\n",
      "Learning rate: 0.000593601434957236\n",
      "\n",
      "Finished!\n",
      "Model saved\n"
     ]
    }
   ],
   "source": [
    "# train model and measure accuracy with validation set on each epoch\n",
    "import time\n",
    "import sys\n",
    "\n",
    "with tf.Session() as sess:\n",
    "    sess.run(tf.global_variables_initializer())\n",
    "    num_examples = len(X_train)\n",
    "    \n",
    "    print(\"Training...\")\n",
    "    #print(time.asctime())\n",
    "    print()\n",
    "    for i in range(EPOCHS): \n",
    "        X_train, y_train = shuffle(X_train, y_train)\n",
    "        for offset in range(0, num_examples, BATCH_SIZE):   \n",
    "            end = offset + BATCH_SIZE       \n",
    "            X, y = X_train[offset:end], y_train[offset:end]\n",
    "            feed_dict={ batch_X: X, batch_y: y, keep_prob: KEEP_PROB}\n",
    "            sess.run(training_operation, feed_dict=feed_dict)\n",
    "            \n",
    "        validation_accuracy = evaluate(X_valid, y_valid) \n",
    "\n",
    "        print(\"EPOCH {} ...\".format(i+1))\n",
    "        print(\"Validation Accuracy = {:.3f}\".format(validation_accuracy))\n",
    "        print(\"Learning rate: {}\".format(sess.run(learning_rate)))\n",
    "        #print(time.asctime())\n",
    "        print()\n",
    "        # decay learning rate, comment out below to not decay learning rate\n",
    "        # if decaying learning rate, hyper parameters code sectoin must be \n",
    "        # redefined before running again so that learning_tensor gets re-initialized\n",
    "        # otherwise, learning rate will pick up where it left off at end of last run!\n",
    "        learning_rate = learning_rate / LEARNING_RATE_DIVISOR\n",
    "        \n",
    "        if(i > 5 and validation_accuracy < 0.3):\n",
    "            print(\"Terminating prematurely due to low accuracy rate {:.3f}\".format(validation_accuracy))\n",
    "            break\n",
    "        if(i > 5 and validation_accuracy > 0.99):\n",
    "            print(\"Terminating because we achieved accuracy rate of {:.3f} which is greater than 0.99.\".format(validation_accuracy))\n",
    "            break \n",
    "            \n",
    "    print(\"Finished!\") \n",
    "    \n",
    "    try:\n",
    "        saver\n",
    "    except NameError:\n",
    "        saver = tf.train.Saver()\n",
    "    saver.save(sess, './lenet')\n",
    "    print(\"Model saved\")"
   ]
  },
  {
   "cell_type": "code",
   "execution_count": 32,
   "metadata": {},
   "outputs": [
    {
     "name": "stdout",
     "output_type": "stream",
     "text": [
      "Test Accuracy = 0.941\n"
     ]
    }
   ],
   "source": [
    "#saver = tf.train.Saver()\n",
    "with tf.Session() as sess:\n",
    "    #saver.restore(sess, './lenet')\n",
    "    saver.restore(sess, tf.train.latest_checkpoint('.'))\n",
    "\n",
    "    test_accuracy = evaluate(X_test, y_test)\n",
    "    print(\"Test Accuracy = {:.3f}\".format(test_accuracy))   "
   ]
  },
  {
   "cell_type": "markdown",
   "metadata": {},
   "source": [
    "---\n",
    "\n",
    "## Step 3: Test a Model on New Images\n",
    "\n",
    "To give yourself more insight into how your model is working, download at least five pictures of German traffic signs from the web and use your model to predict the traffic sign type.\n",
    "\n",
    "You may find `signnames.csv` useful as it contains mappings from the class id (integer) to the actual sign name."
   ]
  },
  {
   "cell_type": "markdown",
   "metadata": {},
   "source": [
    "### Load and Output the Images\n",
    "\n",
    "Two different sets of 5 images are used.  One set are jpg and photos of real signs on the street.  These have trees and clouds in background, are not necessarily centered, and might be skewed at an angle. The next set are png and are drawings of the signs like you might find in Adobe Illustrator for example.  \n",
    "\n",
    "These images are grabbed from Google images.  I had to keep referencing signnames.csv and a Wikipedia page on German Road Signs to make sure I had the correct signs and correctly labeled!  Both sets have two of the same signs, the traffic signal sign and the pedestrians sign.\n",
    "\n",
    "The signs were of varying sizes and the png images had 4 channels.  I had to account for this in loading the data.  After laoding and resizing, the 10 images are displayed along with the y vectors showing the true labels against which the predictions will be compared. "
   ]
  },
  {
   "cell_type": "code",
   "execution_count": 10,
   "metadata": {},
   "outputs": [
    {
     "name": "stdout",
     "output_type": "stream",
     "text": [
      "[ 1 27 26 15 18]\n",
      "[ 3 27 26 22 36]\n"
     ]
    },
    {
     "data": {
      "image/png": "[encoded data removed]",
      "text/plain": [
       "<matplotlib.figure.Figure at 0x7f4b2c416fd0>"
      ]
     },
     "metadata": {},
     "output_type": "display_data"
    },
    {
     "data": {
      "image/png": "[encoded data removed]",
      "text/plain": [
       "<matplotlib.figure.Figure at 0x7f4b0d34b390>"
      ]
     },
     "metadata": {},
     "output_type": "display_data"
    },
    {
     "data": {
      "image/png": "[encoded data removed]",
      "text/plain": [
       "<matplotlib.figure.Figure at 0x7f4b0d320470>"
      ]
     },
     "metadata": {},
     "output_type": "display_data"
    },
    {
     "data": {
      "image/png": "[encoded data removed]",
      "text/plain": [
       "<matplotlib.figure.Figure at 0x7f4b0d274748>"
      ]
     },
     "metadata": {},
     "output_type": "display_data"
    },
    {
     "data": {
      "image/png": "[encoded data removed]",
      "text/plain": [
       "<matplotlib.figure.Figure at 0x7f4b0d23bc88>"
      ]
     },
     "metadata": {},
     "output_type": "display_data"
    },
    {
     "data": {
      "image/png": "[encoded data removed]",
      "text/plain": [
       "<matplotlib.figure.Figure at 0x7f4b0db4e518>"
      ]
     },
     "metadata": {},
     "output_type": "display_data"
    },
    {
     "data": {
      "image/png": "[encoded data removed]",
      "text/plain": [
       "<matplotlib.figure.Figure at 0x7f4b0d1d9f60>"
      ]
     },
     "metadata": {},
     "output_type": "display_data"
    },
    {
     "data": {
      "image/png": "[encoded data removed]",
      "text/plain": [
       "<matplotlib.figure.Figure at 0x7f4b0d1352b0>"
      ]
     },
     "metadata": {},
     "output_type": "display_data"
    },
    {
     "data": {
      "image/png": "[encoded data removed]",
      "text/plain": [
       "<matplotlib.figure.Figure at 0x7f4b0d0fe4e0>"
      ]
     },
     "metadata": {},
     "output_type": "display_data"
    },
    {
     "data": {
      "image/png": "[encoded data removed]",
      "text/plain": [
       "<matplotlib.figure.Figure at 0x7f4b0d0d27b8>"
      ]
     },
     "metadata": {},
     "output_type": "display_data"
    }
   ],
   "source": [
    "import matplotlib.pyplot as plt\n",
    "import scipy.ndimage\n",
    "\n",
    "%matplotlib inline\n",
    "\n",
    "# crop image to a square, then shrink to 32X32, return resulting image\n",
    "def crop_and_resize(image):\n",
    "    min_dim = min(image.shape[0], image.shape[1])\n",
    "    height = image.shape[0]\n",
    "    width = image.shape[1]\n",
    "    h_start = (height-min_dim) // 2\n",
    "    h_end = height - h_start\n",
    "    w_start = (width-min_dim) // 2\n",
    "    w_end = width - w_start\n",
    "    image = image[h_start:h_end, w_start:w_end, :]\n",
    "    image = scipy.misc.imresize(image, (32, 32, 3))\n",
    "    return image\n",
    "\n",
    "# these are jpg \"from the wild\"\n",
    "image_list = [[\"./download/speedlimit30.jpg\", 1], \n",
    "          [\"./download/pedestrians.jpg\", 27],\n",
    "          [\"./download/trafficsignals.jpg\", 26],\n",
    "          [\"./download/novehicles.jpg\", 15],\n",
    "          [\"./download/generalcaution.jpg\", 18]\n",
    "          ]\n",
    "X_jpg = np.empty((5,32,32,3), int)\n",
    "y_jpg = np.empty((5), int)\n",
    "i = 0\n",
    "for image_info in image_list:\n",
    "    image = scipy.ndimage.imread(image_info[0], mode=\"RGB\")\n",
    "    image = crop_and_resize(image)\n",
    "    plt.figure(figsize=(1,1))\n",
    "    plt.imshow(image)\n",
    "    X_jpg[i] = image\n",
    "    y_jpg[i] = image_info[1]\n",
    "    i += 1\n",
    "#print(X_jpg[0, 5, 0:5, :]) # show a few pixels of first image\n",
    "print(y_jpg)\n",
    "\n",
    "# these are png \"just a clean drawing of the sign\"\n",
    "image_list = [[\"./download/speedlimit60.png\", 3], \n",
    "          [\"./download/pedestrians.png\", 27],\n",
    "          [\"./download/trafficsignals.png\", 26],\n",
    "          [\"./download/bumpyroad.png\", 22],\n",
    "          [\"./download/gostraightorright.png\", 36]\n",
    "          ]\n",
    "X_png = np.empty((5,32,32,3), int)\n",
    "y_png = np.empty((5), int)\n",
    "i = 0\n",
    "for image_info in image_list:\n",
    "    image = scipy.ndimage.imread(image_info[0], mode=\"RGB\")\n",
    "    image = crop_and_resize(image)\n",
    "    plt.figure(figsize=(1,1))\n",
    "    plt.imshow(image)\n",
    "    X_png[i] = image\n",
    "    y_png[i] = image_info[1]\n",
    "    i += 1\n",
    "#print(X_png[0, 5, 0:5, :]) # show a few pixels of first image\n",
    "print(y_png)    "
   ]
  },
  {
   "cell_type": "markdown",
   "metadata": {},
   "source": [
    "### Predict the Sign Type for Each Image\n",
    "The saved model is loaded and run against the two small image sets.  The logits are calculated and the index with the largest value is determined.  This corresponds to model prediction.  The actual and predicted values for the two sets are printed out."
   ]
  },
  {
   "cell_type": "code",
   "execution_count": 11,
   "metadata": {},
   "outputs": [
    {
     "name": "stdout",
     "output_type": "stream",
     "text": [
      "png results [ 3 27 26 22 36] actual [ 3 27 26 22 36]\n",
      "jpg results [ 1 18  1 26  3] actual [ 1 27 26 15 18]\n"
     ]
    }
   ],
   "source": [
    "with tf.Session() as sess:\n",
    "    saver.restore(sess, tf.train.latest_checkpoint('.'))\n",
    "    results = sess.run(tf.argmax(logits, 1), feed_dict={batch_X: X_png, batch_y: y_png, keep_prob: 1.0})\n",
    "    print(\"png results {0} actual {1}\".format(results, y_png))\n",
    "    results = sess.run(tf.argmax(logits, 1), feed_dict={batch_X: X_jpg, batch_y: y_jpg, keep_prob: 1.0})\n",
    "    print(\"jpg results {0} actual {1}\".format(results, y_jpg))\n",
    "     \n"
   ]
  },
  {
   "cell_type": "markdown",
   "metadata": {},
   "source": [
    "### Analyze Performance\n",
    "The png results were perfect which is not surprising since these are mostly ideal renditions of the signs!  The jpg set results were 20%, not good!  This is understandable since the model was trained on centered, non-skewed, non-obstructed views of the signs."
   ]
  },
  {
   "cell_type": "code",
   "execution_count": 12,
   "metadata": {},
   "outputs": [
    {
     "name": "stdout",
     "output_type": "stream",
     "text": [
      "Test Accuracy jpg = 0.200\n",
      "Test Accuracy png = 1.000\n"
     ]
    }
   ],
   "source": [
    "with tf.Session() as sess:\n",
    "    saver.restore(sess, tf.train.latest_checkpoint('.'))\n",
    "\n",
    "    test_accuracy = evaluate(X_jpg, y_jpg)\n",
    "    print(\"Test Accuracy jpg = {:.3f}\".format(test_accuracy))  \n",
    "    \n",
    "    test_accuracy = evaluate(X_png, y_png)\n",
    "    print(\"Test Accuracy png = {:.3f}\".format(test_accuracy)) "
   ]
  },
  {
   "cell_type": "markdown",
   "metadata": {},
   "source": [
    "### Output Top 5 Softmax Probabilities For Each Image Found on the Web"
   ]
  },
  {
   "cell_type": "markdown",
   "metadata": {},
   "source": [
    "For each of the new images, print out the model's softmax probabilities to show the **certainty** of the model's predictions (limit the output to the top 5 probabilities for each image). [`tf.nn.top_k`](https://www.tensorflow.org/versions/r0.12/api_docs/python/nn.html#top_k) could prove helpful here. \n",
    "\n",
    "The example below demonstrates how tf.nn.top_k can be used to find the top k predictions for each image.\n",
    "\n",
    "`tf.nn.top_k` will return the values and indices (class ids) of the top k predictions. So if k=3, for each sign, it'll return the 3 largest probabilities (out of a possible 43) and the correspoding class ids.\n",
    "\n",
    "Take this numpy array as an example. The values in the array represent predictions. The array contains softmax probabilities for five candidate images with six possible classes. `tf.nn.top_k` is used to choose the three classes with the highest probability:\n",
    "\n",
    "```\n",
    "# (5, 6) array\n",
    "a = np.array([[ 0.24879643,  0.07032244,  0.12641572,  0.34763842,  0.07893497,\n",
    "         0.12789202],\n",
    "       [ 0.28086119,  0.27569815,  0.08594638,  0.0178669 ,  0.18063401,\n",
    "         0.15899337],\n",
    "       [ 0.26076848,  0.23664738,  0.08020603,  0.07001922,  0.1134371 ,\n",
    "         0.23892179],\n",
    "       [ 0.11943333,  0.29198961,  0.02605103,  0.26234032,  0.1351348 ,\n",
    "         0.16505091],\n",
    "       [ 0.09561176,  0.34396535,  0.0643941 ,  0.16240774,  0.24206137,\n",
    "         0.09155967]])\n",
    "```\n",
    "\n",
    "Running it through `sess.run(tf.nn.top_k(tf.constant(a), k=3))` produces:\n",
    "\n",
    "```\n",
    "TopKV2(values=array([[ 0.34763842,  0.24879643,  0.12789202],\n",
    "       [ 0.28086119,  0.27569815,  0.18063401],\n",
    "       [ 0.26076848,  0.23892179,  0.23664738],\n",
    "       [ 0.29198961,  0.26234032,  0.16505091],\n",
    "       [ 0.34396535,  0.24206137,  0.16240774]]), indices=array([[3, 0, 5],\n",
    "       [0, 1, 4],\n",
    "       [0, 5, 1],\n",
    "       [1, 3, 5],\n",
    "       [1, 4, 3]], dtype=int32))\n",
    "```\n",
    "\n",
    "Looking just at the first row we get `[ 0.34763842,  0.24879643,  0.12789202]`, you can confirm these are the 3 largest probabilities in `a`. You'll also notice `[3, 0, 5]` are the corresponding indices."
   ]
  },
  {
   "cell_type": "code",
   "execution_count": 127,
   "metadata": {},
   "outputs": [
    {
     "name": "stdout",
     "output_type": "stream",
     "text": [
      "Results for png set.\n",
      "TopKV2(values=array([[  1.00000000e+00,   7.04665981e-13,   2.77087760e-13,\n",
      "          1.79010694e-15,   2.67350812e-21],\n",
      "       [  1.00000000e+00,   1.37546655e-10,   1.16965882e-14,\n",
      "          1.97531491e-17,   6.24109530e-19],\n",
      "       [  1.00000000e+00,   3.07395386e-19,   2.08341321e-25,\n",
      "          1.30068680e-25,   5.61491972e-27],\n",
      "       [  7.69186378e-01,   2.30628520e-01,   1.13726070e-04,\n",
      "          6.31854273e-05,   8.25976531e-06],\n",
      "       [  1.00000000e+00,   2.66127143e-18,   2.99742450e-34,\n",
      "          7.30537654e-35,   1.76799114e-36]], dtype=float32), indices=array([[ 2,  4, 38, 11, 39],\n",
      "       [26, 11, 27, 18, 38],\n",
      "       [26,  4, 12, 11, 38],\n",
      "       [25, 38, 29, 26, 22],\n",
      "       [36, 18, 13, 12, 17]], dtype=int32))\n",
      "\n",
      "Results for jpg set.\n",
      "TopKV2(values=array([[  1.00000000e+00,   7.47400808e-10,   3.65459156e-11,\n",
      "          1.30586315e-16,   7.34047355e-17],\n",
      "       [  1.00000000e+00,   2.69911310e-16,   5.56227667e-22,\n",
      "          5.62699144e-27,   5.72653410e-28],\n",
      "       [  1.00000000e+00,   3.93298811e-16,   1.69000790e-25,\n",
      "          1.27604981e-25,   2.67739748e-28],\n",
      "       [  9.99988914e-01,   1.07613650e-05,   3.04823772e-07,\n",
      "          9.70318603e-10,   6.39788500e-10],\n",
      "       [  7.53099740e-01,   2.22133592e-01,   1.29787223e-02,\n",
      "          1.15746455e-02,   2.13229432e-04]], dtype=float32), indices=array([[ 1,  4,  5, 18,  0],\n",
      "       [18, 27, 11, 14, 24],\n",
      "       [11, 17,  3, 14,  7],\n",
      "       [17, 38, 40, 18, 24],\n",
      "       [15,  9, 29, 26,  3]], dtype=int32))\n"
     ]
    }
   ],
   "source": [
    "with tf.Session() as sess:\n",
    "    saver.restore(sess, tf.train.latest_checkpoint('.'))\n",
    "    results = sess.run(tf.nn.top_k(tf.nn.softmax(logits), k=5), feed_dict={batch_X: X_png, batch_y: y_png})\n",
    "    print(\"Results for png set.\")\n",
    "    print(results)\n",
    "    print()\n",
    "    results = sess.run(tf.nn.top_k(tf.nn.softmax(logits), k=5), feed_dict={batch_X: X_jpg, batch_y: y_jpg})\n",
    "    print(\"Results for jpg set.\")\n",
    "    print(results)"
   ]
  },
  {
   "cell_type": "markdown",
   "metadata": {},
   "source": [
    "### Final Thoughts\n",
    "\n",
    "It is disappointing that the jpg \"real world\" examples did not do better.  Obviously, this model is not adequate for road use since the jpg images represent how road signs would appear to a camera mounted on a car. \n",
    "\n",
    "What is needed is a better data set to train on.  A dataset where all images are captured from a car's camera - inlcude various angles, various backgrounds, are partially obstructed, etc.  Training a model on such a dataset would probably require much more effort than what was expended on this lab.  Probably a more robust architecture.\n",
    "\n",
    "I like the idea of using 32 X 32 images since most road signs will be viewed from a distance and therefor only constitute a small piece of a larger image.\n",
    "\n",
    "I did not get to the section on displaying the network state images, but i plan to do this later as I think it is interesting and revealing about what is actually going on."
   ]
  },
  {
   "cell_type": "markdown",
   "metadata": {},
   "source": [
    "> **Note**: Once you have completed all of the code implementations and successfully answered each question above, you may finalize your work by exporting the iPython Notebook as an HTML document. You can do this by using the menu above and navigating to  \\n\",\n",
    "    \"**File -> Download as -> HTML (.html)**. Include the finished document along with this notebook as your submission."
   ]
  },
  {
   "cell_type": "markdown",
   "metadata": {},
   "source": [
    "---\n",
    "\n",
    "## Step 4 (Optional): Visualize the Neural Network's State with Test Images\n",
    "\n",
    " This Section is not required to complete but acts as an additional excersise for understaning the output of a neural network's weights. While neural networks can be a great learning device they are often referred to as a black box. We can understand what the weights of a neural network look like better by plotting their feature maps. After successfully training your neural network you can see what it's feature maps look like by plotting the output of the network's weight layers in response to a test stimuli image. From these plotted feature maps, it's possible to see what characteristics of an image the network finds interesting. For a sign, maybe the inner network feature maps react with high activation to the sign's boundary outline or to the contrast in the sign's painted symbol.\n",
    "\n",
    " Provided for you below is the function code that allows you to get the visualization output of any tensorflow weight layer you want. The inputs to the function should be a stimuli image, one used during training or a new one you provided, and then the tensorflow variable name that represents the layer's state during the training process, for instance if you wanted to see what the [LeNet lab's](https://classroom.udacity.com/nanodegrees/nd013/parts/fbf77062-5703-404e-b60c-95b78b2f3f9e/modules/6df7ae49-c61c-4bb2-a23e-6527e69209ec/lessons/601ae704-1035-4287-8b11-e2c2716217ad/concepts/d4aca031-508f-4e0b-b493-e7b706120f81) feature maps looked like for it's second convolutional layer you could enter conv2 as the tf_activation variable.\n",
    "\n",
    "For an example of what feature map outputs look like, check out NVIDIA's results in their paper [End-to-End Deep Learning for Self-Driving Cars](https://devblogs.nvidia.com/parallelforall/deep-learning-self-driving-cars/) in the section Visualization of internal CNN State. NVIDIA was able to show that their network's inner weights had high activations to road boundary lines by comparing feature maps from an image with a clear path to one without. Try experimenting with a similar test to show that your trained network's weights are looking for interesting features, whether it's looking at differences in feature maps from images with or without a sign, or even what feature maps look like in a trained network vs a completely untrained one on the same sign image.\n",
    "\n",
    "<figure>\n",
    " <img src=\"visualize_cnn.png\" width=\"380\" alt=\"Combined Image\" />\n",
    " <figcaption>\n",
    " <p></p> \n",
    " <p style=\"text-align: center;\"> Your output should look something like this (above)</p> \n",
    " </figcaption>\n",
    "</figure>\n",
    " <p></p> \n"
   ]
  },
  {
   "cell_type": "code",
   "execution_count": null,
   "metadata": {
    "collapsed": true
   },
   "outputs": [],
   "source": [
    "### Visualize your network's feature maps here.\n",
    "### Feel free to use as many code cells as needed.\n",
    "\n",
    "# image_input: the test image being fed into the network to produce the feature maps\n",
    "# tf_activation: should be a tf variable name used during your training procedure that represents the calculated state of a specific weight layer\n",
    "# activation_min/max: can be used to view the activation contrast in more detail, by default matplot sets min and max to the actual min and max values of the output\n",
    "# plt_num: used to plot out multiple different weight feature map sets on the same block, just extend the plt number for each new feature map entry\n",
    "\n",
    "def outputFeatureMap(image_input, tf_activation, activation_min=-1, activation_max=-1 ,plt_num=1):\n",
    "    # Here make sure to preprocess your image_input in a way your network expects\n",
    "    # with size, normalization, ect if needed\n",
    "    # image_input =\n",
    "    # Note: x should be the same name as your network's tensorflow data placeholder variable\n",
    "    # If you get an error tf_activation is not defined it may be having trouble accessing the variable from inside a function\n",
    "    activation = tf_activation.eval(session=sess,feed_dict={x : image_input})\n",
    "    featuremaps = activation.shape[3]\n",
    "    plt.figure(plt_num, figsize=(15,15))\n",
    "    for featuremap in range(featuremaps):\n",
    "        plt.subplot(6,8, featuremap+1) # sets the number of feature maps to show on each row and column\n",
    "        plt.title('FeatureMap ' + str(featuremap)) # displays the feature map number\n",
    "        if activation_min != -1 & activation_max != -1:\n",
    "            plt.imshow(activation[0,:,:, featuremap], interpolation=\"nearest\", vmin =activation_min, vmax=activation_max, cmap=\"gray\")\n",
    "        elif activation_max != -1:\n",
    "            plt.imshow(activation[0,:,:, featuremap], interpolation=\"nearest\", vmax=activation_max, cmap=\"gray\")\n",
    "        elif activation_min !=-1:\n",
    "            plt.imshow(activation[0,:,:, featuremap], interpolation=\"nearest\", vmin=activation_min, cmap=\"gray\")\n",
    "        else:\n",
    "            plt.imshow(activation[0,:,:, featuremap], interpolation=\"nearest\", cmap=\"gray\")"
   ]
  }
 ],
 "metadata": {
  "anaconda-cloud": {},
  "kernelspec": {
   "display_name": "Python 3",
   "language": "python",
   "name": "python3"
  },
  "language_info": {
   "codemirror_mode": {
    "name": "ipython",
    "version": 3
   },
   "file_extension": ".py",
   "mimetype": "text/x-python",
   "name": "python",
   "nbconvert_exporter": "python",
   "pygments_lexer": "ipython3",
   "version": "3.5.2"
  },
  "widgets": {
   "state": {},
   "version": "1.1.2"
  }
 },
 "nbformat": 4,
 "nbformat_minor": 1
}
